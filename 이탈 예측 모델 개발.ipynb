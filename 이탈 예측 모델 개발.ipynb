{
 "cells": [
  {
   "cell_type": "markdown",
   "id": "37842077",
   "metadata": {},
   "source": [
    "- 프로젝트: 이탈 예측 모델 개발\n",
    "    - 모델의 전반적인 컨셉 -> 전학년 별 이탈 예측, 학년 별 이탈 예측, 성별에 따른 이탈 예측, 재구매 이력에 따른 이탈 예측 등\n",
    "    - 활용 데이터 설명\n",
    "    - 예측 모델(linear, logistic, DCT, Xgboost, LGBM 등등)\n",
    "    - 성능 지표를 통한 결과 설명\n",
    "    \n",
    "#성별과 당월 학습시간평균, 획득점수 평균에 따른 이탈/미이탈 여부\n",
    "    "
   ]
  },
  {
   "cell_type": "markdown",
   "id": "e30a9ffa",
   "metadata": {},
   "source": [
    "system_id : 시스템 상 id\n",
    "grade_sect_cd : 학년 (1~6 학년)\n",
    "mbr_sex_cd : 성별\n",
    "tmon_pchrg_lrn_dcnt : 당월 유료 학습 일 수\n",
    "acmlt_pchrg_lrn_dcnt: 누적 유료 학습 일 수(성숙도)\n",
    "acmlt_bilclct_amt : 누적 수금액\n",
    "correct_rate_avg : 당월 획득 점수 평균\n",
    "learning_time_avg : 당월 학습 시간 평균\n",
    "media_action_cnt_sum : 미디어 콘텐츠 내 동영상 행동(시청) 횟수 총합\n",
    "non_video_viewed_cnt_sum : 미디어 콘텐츠 내 미시청 행동 횟수 총합\n",
    "get_mm_point_sum : 당월 획득 포인트 합 (사용 x)\n",
    "label : 이탈,미이탈 여부\n",
    "re_purch : 구매,재구매"
   ]
  },
  {
   "cell_type": "code",
   "execution_count": null,
   "id": "d68a06a7",
   "metadata": {},
   "outputs": [],
   "source": [
    "from sklearn.model_selection import train_test_split\n",
    "from lightgbm import LGBMClassifier\n",
    "from sklearn.metrics import accuracy_score\n",
    "from lightgbm import plot_importance\n",
    "import matplotlib.pyplot as plt\n",
    "import pandas as pd\n",
    "from sklearn.metrics import precision_recall_fscore_support\n",
    "\n",
    "churn_data = pd.read_csv('./data/churn_data.csv')"
   ]
  },
  {
   "cell_type": "markdown",
   "id": "2e76bdb6",
   "metadata": {},
   "source": [
    " 성별 학습시간 당월 획득점수 평균이 이탈에 영향을 미치\n",
    "사용할 것 : 성별, 학습시간,당월 획득 점수 평균\n",
    "mbr_sex_cd : 성별\n",
    "learning_time_avg : 학습시간 평균\n",
    "correct_rate_avg : 획득점수 평균"
   ]
  },
  {
   "cell_type": "markdown",
   "id": "2df119cc",
   "metadata": {},
   "source": [
    "# 전처리\n",
    "----------------------------------------------------------"
   ]
  },
  {
   "cell_type": "code",
   "execution_count": null,
   "id": "b3d52386",
   "metadata": {
    "scrolled": false
   },
   "outputs": [],
   "source": [
    "churn_data[churn_data['tmon_pchrg_lrn_dcnt']>churn_data['acmlt_pchrg_lrn_dcnt']].count()"
   ]
  },
  {
   "cell_type": "markdown",
   "id": "b60938b8",
   "metadata": {},
   "source": [
    "누적 유료학습일수가 당월 유료학습일 수보다 많은 날은 없음"
   ]
  },
  {
   "cell_type": "code",
   "execution_count": null,
   "id": "b2ba7587",
   "metadata": {},
   "outputs": [],
   "source": [
    "churn_data[churn_data['tmon_pchrg_lrn_dcnt']>31].count()"
   ]
  },
  {
   "cell_type": "markdown",
   "id": "d40d25fb",
   "metadata": {},
   "source": [
    "당월 유료학습일이 31 이상인 곳은 없음"
   ]
  },
  {
   "cell_type": "markdown",
   "id": "cd437645",
   "metadata": {},
   "source": [
    "초등학생 기준 학습시간 하루 최대 5시간으로 가정하여 이상치를 제거한다."
   ]
  },
  {
   "cell_type": "code",
   "execution_count": null,
   "id": "483d216e",
   "metadata": {},
   "outputs": [],
   "source": [
    "churn_data =churn_data[churn_data['learning_time_avg']<155]\n",
    "\n",
    "churn_data =churn_data[churn_data['learning_time_avg']>0]"
   ]
  },
  {
   "cell_type": "markdown",
   "id": "91a5a8ca",
   "metadata": {},
   "source": [
    "성별의 X라는 값을 제거"
   ]
  },
  {
   "cell_type": "code",
   "execution_count": null,
   "id": "c84fe9f8",
   "metadata": {},
   "outputs": [],
   "source": [
    "churn_data['mbr_sex_cd'].unique()\n",
    "\n",
    "churn_data = churn_data[churn_data['mbr_sex_cd'] != 'X'].copy()"
   ]
  },
  {
   "cell_type": "code",
   "execution_count": null,
   "id": "ee71b9d3",
   "metadata": {
    "scrolled": false
   },
   "outputs": [],
   "source": [
    "import matplotlib.pyplot as plt\n",
    "import seaborn as sns\n",
    "\n",
    "# 성별과 이탈 여부에 따른 학습 시간 평균을 박스 플롯으로 시각화\n",
    "plt.rcParams['font.family'] ='Malgun Gothic'\n",
    "plt.figure(figsize=(12, 6))\n",
    "sns.boxplot(x='mbr_sex_cd', y='learning_time_avg', hue='label', data=churn_data)\n",
    "\n",
    "plt.title('성별과 이탈 여부에 따른 당월 학습 시간 평균')\n",
    "plt.xlabel('성별')\n",
    "plt.ylabel('당월 학습 시간 평균')\n",
    "handles, _= plt.gca().get_legend_handles_labels()\n",
    "plt.legend(handles, ['미이탈', '이탈'])\n",
    "plt.show()\n"
   ]
  },
  {
   "cell_type": "markdown",
   "id": "2412aa5a",
   "metadata": {},
   "source": [
    "이탈한 학생들 중 남학생이 평균 학습시간이 더 높게 나타난 것으로 보인다."
   ]
  },
  {
   "cell_type": "markdown",
   "id": "d53a2711",
   "metadata": {},
   "source": [
    "X 제거 후 범주형 변수인 mbr_sex_cd를 수치형으로 변환 "
   ]
  },
  {
   "cell_type": "code",
   "execution_count": null,
   "id": "ad60cd0f",
   "metadata": {
    "scrolled": true
   },
   "outputs": [],
   "source": [
    "# 범주형 변수인 mbr_sex_cd를 수치형으로 변환 \n",
    "from sklearn.preprocessing import LabelEncoder\n",
    "\n",
    "encoder = LabelEncoder()\n",
    "encoder.fit(churn_data['mbr_sex_cd'])\n",
    "churn_data['mbr_sex_cd']= encoder.transform(churn_data['mbr_sex_cd'])\n",
    "churn_data"
   ]
  },
  {
   "cell_type": "markdown",
   "id": "7890854c",
   "metadata": {},
   "source": [
    "# X,y 설정\n",
    "------------------------------------------------------"
   ]
  },
  {
   "cell_type": "code",
   "execution_count": null,
   "id": "ffde5c76",
   "metadata": {},
   "outputs": [],
   "source": [
    "churn_data['mbr_sex_cd']= churn_data['mbr_sex_cd'].astype('float64')\n",
    "\n",
    "X= churn_data[['mbr_sex_cd','learning_time_avg','correct_rate_avg']]\n",
    "y= churn_data['label']\n",
    "\n",
    "X_test,X_train,y_test,y_train = train_test_split(X,y,test_size=0.2,random_state=0)\n",
    "\n"
   ]
  },
  {
   "cell_type": "code",
   "execution_count": null,
   "id": "1425069c",
   "metadata": {
    "scrolled": true
   },
   "outputs": [],
   "source": [
    "# LGBMClassifier 모델 생성 및 학습\n",
    "lgbm_model = LGBMClassifier(random_state=42,verbose=-1)\n",
    "lgbm_model.fit(X_train, y_train)\n",
    "\n",
    "# 테스트 데이터에 대한 예측 수행\n",
    "y_pred = lgbm_model.predict(X_test)\n",
    "\n",
    "# 모델 성능 평가\n",
    "acc = accuracy_score(y_test, y_pred)\n",
    "pr, re, f1,_ = precision_recall_fscore_support(y_test, y_pred, average='binary')\n",
    "\n",
    "print(' acc: {}, precision: {}, recall: {}, f1: {}'.format( acc, pr, re, f1))\n"
   ]
  },
  {
   "cell_type": "code",
   "execution_count": null,
   "id": "df3fde50",
   "metadata": {},
   "outputs": [],
   "source": [
    "print(\"[Train] 전체: {} , 이탈 : {}, 미이탈 : {}\".format(len(X_train),y_train[y_train==1].shape[0],\n",
    "                                                    y_train[y_train==0].shape[0] ))\n",
    "print(\"[Test] 전체: {} , 이탈 : {}, 미이탈: {}\".format(len(X_test),y_test[y_test==1].shape[0],\n",
    "                                                    y_test[y_test==0].shape[0]) )"
   ]
  },
  {
   "cell_type": "code",
   "execution_count": null,
   "id": "ca6a0a1d",
   "metadata": {},
   "outputs": [],
   "source": [
    "from sklearn.metrics import confusion_matrix\n",
    "cmtx= pd.DataFrame(confusion_matrix(y_test,y_pred,labels=[1,0]),\n",
    "                  index=['실제:이탈(1)','실제:미이탈(0)'],\n",
    "                  columns=['예측:이탈(1)','예측:미이탈(0)'])\n",
    "cmtx"
   ]
  },
  {
   "cell_type": "markdown",
   "id": "0a3f664d",
   "metadata": {},
   "source": [
    "이탈값이 측정되지않아 오버 샘플링하여 다시 측정하엿다."
   ]
  },
  {
   "cell_type": "code",
   "execution_count": null,
   "id": "69b49d71",
   "metadata": {},
   "outputs": [],
   "source": [
    "from imblearn.over_sampling import SMOTE\n",
    "X_train_over,y_train_over = SMOTE(random_state=12).fit_resample(X_train,y_train)\n",
    "print(y_train_over.value_counts())"
   ]
  },
  {
   "cell_type": "code",
   "execution_count": null,
   "id": "100e31b5",
   "metadata": {
    "scrolled": false
   },
   "outputs": [],
   "source": [
    "# 모델 재훈련\n",
    "lgbm_model = LGBMClassifier(random_state=12)\n",
    "lgbm_model.fit(X=X_train_over,y=y_train_over)\n",
    "\n",
    "# 재예측\n",
    "y_pred= lgbm_model.predict(X_test)\n",
    "\n",
    "#재평가\n",
    "acc = accuracy_score(y_test, y_pred)\n",
    "pr, re, f1,_ = precision_recall_fscore_support(y_test, y_pred, average='binary')\n",
    "\n",
    "print(' acc: {}, precision: {}, recall: {}, f1: {}'.format( acc, pr, re, f1))\n"
   ]
  },
  {
   "cell_type": "code",
   "execution_count": null,
   "id": "68da79f2",
   "metadata": {},
   "outputs": [],
   "source": [
    "print(\"[Train] 전체: {} , 이탈 : {}, 미이탈 : {}\".format(len(X_train_over),y_train_over[y_train_over==1].shape[0],\n",
    "                                                    y_train_over[y_train_over==0].shape[0] ))\n",
    "print(\"[Test] 전체: {} , 이탈 : {}, 미이탈: {}\".format(len(X_test),y_test[y_test==1].shape[0],\n",
    "                                                    y_test[y_test==0].shape[0]) )"
   ]
  },
  {
   "cell_type": "code",
   "execution_count": null,
   "id": "5d30aeab",
   "metadata": {},
   "outputs": [],
   "source": [
    "from sklearn.metrics import confusion_matrix\n",
    "cmtx= pd.DataFrame(confusion_matrix(y_test,y_pred,labels=[1,0]),\n",
    "                  index=['실제:이탈(1)','실제:미이탈(0)'],\n",
    "                  columns=['예측:이탈(1)','예측:미이탈(0)'])\n",
    "cmtx"
   ]
  },
  {
   "cell_type": "markdown",
   "id": "f5cfb4ae",
   "metadata": {},
   "source": [
    "오버 샘플링 결과 정확도는 약 93%로 높지만 정밀도,재현율,F1score가 낮게 나와 성능을 높히기 위해 하이퍼 마라미터를 설정하였습니다."
   ]
  },
  {
   "cell_type": "code",
   "execution_count": null,
   "id": "5014d147",
   "metadata": {
    "scrolled": true
   },
   "outputs": [],
   "source": [
    "from sklearn.model_selection import GridSearchCV\n",
    "lgbm_model = LGBMClassifier(verbose=-1)\n",
    "\n",
    "# 하이퍼파라미터 그리드 설정\n",
    "param_grid = {'num_leaves': [10,20,30],# num_leaves 후보 값들\n",
    "              'learning_rate':[0.01,0.05,0.1], # learning_rate 후보 값들 (학습정도)\n",
    "              'max_depth':[3,5,7], # max_depth 후보 값들\n",
    "              'min_child_samples': [10,20,30] # min_child_samples의 후보 값들 샘플 양\n",
    "}\n",
    "\n",
    "# GridSearchCV 객체 생성\n",
    "grid_search= GridSearchCV(estimator=lgbm_model,param_grid=param_grid)\n",
    "\n",
    "# 그리드 서치 수행\n",
    "grid_search.fit(X_train_over,y_train_over)\n",
    "# 최적의 하이퍼파라미터\n",
    "print('Best Parameters : ', grid_search.best_params_)\n",
    "# 최적의 하이퍼파라미터로 학습된 모델 가져오기\n",
    "best_model = grid_search.best_estimator_\n",
    "# 예측 수행\n",
    "\n",
    "y_pred = best_model.predict(X_test)\n",
    "\n",
    "acc = accuracy_score(y_test, y_pred)\n",
    "pr, re, f1,_ = precision_recall_fscore_support(y_test, y_pred, average='binary')\n",
    "\n",
    "print(' acc: {}, precision: {}, recall: {}, f1: {}'.format( acc, pr, re, f1))"
   ]
  },
  {
   "cell_type": "code",
   "execution_count": null,
   "id": "f6eece46",
   "metadata": {},
   "outputs": [],
   "source": [
    "print(\"[Train] 전체: {} , 이탈 : {}, 미이탈 : {}\".format(len(X_train_over),y_train_over[y_train_over==1].shape[0],\n",
    "                                                    y_train_over[y_train_over==0].shape[0] ))\n",
    "print(\"[Test] 전체: {} , 이탈 : {}, 미이탈: {}\".format(len(X_test),y_test[y_test==1].shape[0],\n",
    "                                                    y_test[y_test==0].shape[0]) )"
   ]
  },
  {
   "cell_type": "code",
   "execution_count": null,
   "id": "9c5ae515",
   "metadata": {},
   "outputs": [],
   "source": [
    "cmtx= pd.DataFrame(confusion_matrix(y_test,y_pred,labels=[1,0]),\n",
    "                  index=['실제:이탈(1)','실제:미이탈(0)'],\n",
    "                  columns=['예측:이탈(1)','예측:미이탈(0)'])\n",
    "cmtx"
   ]
  },
  {
   "cell_type": "code",
   "execution_count": null,
   "id": "c54e99f2",
   "metadata": {},
   "outputs": [],
   "source": [
    "from lightgbm import plot_importance\n",
    "import matplotlib.pyplot as plt\n",
    "\n",
    "fig, ax = plt.subplots(figsize=(5,5))\n",
    "plot_importance(best_model, ax=ax)\n",
    "plt.title(\"Feature Importance\")\n",
    "plt.show()"
   ]
  },
  {
   "cell_type": "markdown",
   "id": "ff9805ce",
   "metadata": {},
   "source": [
    "성별,당월 학습시간평균, 획득점수 평균에 따른 이탈 여부"
   ]
  },
  {
   "cell_type": "markdown",
   "id": "fb4e8ca3",
   "metadata": {},
   "source": [
    "학습시간 평균이 학습자의 이탈여부와 관계가 있다는 것을 알수 있다."
   ]
  },
  {
   "cell_type": "markdown",
   "id": "b43d33d8",
   "metadata": {},
   "source": [
    "획득 점수 평균이 중요하게 작용하는것으로 보아 획득 점수가 낮은 학생들에게 점수를 올릴수 있는 프로그램을 만들어 이탈율을 줄일수 있다."
   ]
  },
  {
   "cell_type": "code",
   "execution_count": null,
   "id": "7b1b3bdf",
   "metadata": {},
   "outputs": [],
   "source": []
  }
 ],
 "metadata": {
  "kernelspec": {
   "display_name": "Python 3 (ipykernel)",
   "language": "python",
   "name": "python3"
  },
  "language_info": {
   "codemirror_mode": {
    "name": "ipython",
    "version": 3
   },
   "file_extension": ".py",
   "mimetype": "text/x-python",
   "name": "python",
   "nbconvert_exporter": "python",
   "pygments_lexer": "ipython3",
   "version": "3.11.5"
  }
 },
 "nbformat": 4,
 "nbformat_minor": 5
}
